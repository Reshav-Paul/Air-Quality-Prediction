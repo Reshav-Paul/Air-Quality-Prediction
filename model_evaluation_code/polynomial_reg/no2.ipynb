{
 "cells": [
  {
   "cell_type": "code",
   "execution_count": 1,
   "metadata": {},
   "outputs": [],
   "source": [
    "import polyEngine"
   ]
  },
  {
   "cell_type": "code",
   "execution_count": 8,
   "metadata": {},
   "outputs": [
    {
     "name": "stdout",
     "output_type": "stream",
     "text": [
      "rms error: : 11.85723812252457\n",
      "percentage of predictions with error < 20%: 75.1578947368421\n"
     ]
    }
   ],
   "source": [
    "filename = \"Data\\merged_data_DminusOne.csv\"\n",
    "col_list = ['Day No.','Air Temperature', 'Pressure Station Level','Horizontal Visibility', 'D-1 NO2'];\n",
    "target_y = ['NO2']\n",
    "test_size = 0.2\n",
    "degree = 2\n",
    "engine = polyEngine.polyEngine(filename, col_list, target_y, test_size, degree)\n",
    "poly_regressor = engine.runEngine()\n",
    "error = engine.getStatusLog()"
   ]
  }
 ],
 "metadata": {
  "kernelspec": {
   "display_name": "Python 3",
   "language": "python",
   "name": "python3"
  },
  "language_info": {
   "codemirror_mode": {
    "name": "ipython",
    "version": 3
   },
   "file_extension": ".py",
   "mimetype": "text/x-python",
   "name": "python",
   "nbconvert_exporter": "python",
   "pygments_lexer": "ipython3",
   "version": "3.7.3"
  }
 },
 "nbformat": 4,
 "nbformat_minor": 2
}
