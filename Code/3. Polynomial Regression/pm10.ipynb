{
 "cells": [
  {
   "cell_type": "code",
   "execution_count": 1,
   "metadata": {},
   "outputs": [],
   "source": [
    "import polyEngine"
   ]
  },
  {
   "cell_type": "code",
   "execution_count": 12,
   "metadata": {},
   "outputs": [
    {
     "name": "stdout",
     "output_type": "stream",
     "text": [
      "rms error: : 27.12685416828489\n",
      "percentage of predictions with error < 20%: 72.63157894736841\n"
     ]
    }
   ],
   "source": [
    "filename = \"Data\\merged_data_DminusOne.csv\"\n",
    "col_list = ['Day No.','Air Temperature', 'Pressure Station Level','Dew Point Temperature',\n",
    "            'Relative Humidity', 'Horizontal Visibility','D-1 PM10'];\n",
    "target_y = ['PM10']\n",
    "test_size = 0.2\n",
    "degree = 2\n",
    "engine = polyEngine.polyEngine(filename, col_list, target_y, test_size, degree)\n",
    "poly_regressor = engine.runEngine()\n",
    "error = engine.getStatusLog()"
   ]
  }
 ],
 "metadata": {
  "kernelspec": {
   "display_name": "Python 3",
   "language": "python",
   "name": "python3"
  },
  "language_info": {
   "codemirror_mode": {
    "name": "ipython",
    "version": 3
   },
   "file_extension": ".py",
   "mimetype": "text/x-python",
   "name": "python",
   "nbconvert_exporter": "python",
   "pygments_lexer": "ipython3",
   "version": "3.7.3"
  }
 },
 "nbformat": 4,
 "nbformat_minor": 2
}
